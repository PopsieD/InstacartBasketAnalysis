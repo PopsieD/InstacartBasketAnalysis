{
 "cells": [
  {
   "cell_type": "markdown",
   "metadata": {},
   "source": [
    "# Part 2"
   ]
  },
  {
   "cell_type": "markdown",
   "metadata": {},
   "source": [
    "## 1."
   ]
  },
  {
   "cell_type": "code",
   "execution_count": 1,
   "metadata": {},
   "outputs": [],
   "source": [
    "#import libraries\n",
    "import pandas as pd\n",
    "import numpy as np\n",
    "import os\n",
    "import matplotlib.pyplot as plt\n",
    "import seaborn as sns\n",
    "import scipy"
   ]
  },
  {
   "cell_type": "code",
   "execution_count": 2,
   "metadata": {},
   "outputs": [],
   "source": [
    "#import dataframe\n",
    "path = r'C:\\Users\\kickw\\OneDrive\\Documents\\Instacart Basket Analysis'\n",
    "ords_prods_merge= pd.read_pickle(r'C:\\Users\\kickw\\OneDrive\\Documents\\Instacart Basket Analysis\\02 Data\\Prepared Data\\full_customers.pkl')"
   ]
  },
  {
   "cell_type": "markdown",
   "metadata": {},
   "source": [
    "## 2."
   ]
  },
  {
   "cell_type": "markdown",
   "metadata": {},
   "source": [
    "### Bar Chart"
   ]
  },
  {
   "cell_type": "code",
   "execution_count": 3,
   "metadata": {},
   "outputs": [
    {
     "data": {
      "text/plain": [
       "<matplotlib.axes._subplots.AxesSubplot at 0x1ac1a1ac850>"
      ]
     },
     "execution_count": 3,
     "metadata": {},
     "output_type": "execute_result"
    },
    {
     "data": {
      "image/png": "[encoded data removed]",
      "text/plain": [
       "<Figure size 432x288 with 1 Axes>"
      ]
     },
     "metadata": {
      "needs_background": "light"
     },
     "output_type": "display_data"
    }
   ],
   "source": [
    "#create bar chart\n",
    "ords_prods_merge['orders_day_of_week'].value_counts().plot.bar(color=['purple', 'red', 'pink', 'orange', 'yellow', 'green', 'blue'])"
   ]
  },
  {
   "cell_type": "code",
   "execution_count": 4,
   "metadata": {},
   "outputs": [
    {
     "data": {
      "image/png": "[encoded data removed]",
      "text/plain": [
       "<Figure size 432x288 with 1 Axes>"
      ]
     },
     "metadata": {
      "needs_background": "light"
     },
     "output_type": "display_data"
    }
   ],
   "source": [
    "#save bar chart\n",
    "bar= ords_prods_merge['orders_day_of_week'].value_counts().plot.bar(color=['purple', 'red', 'pink', 'orange', 'yellow', 'green', 'blue'])"
   ]
  },
  {
   "cell_type": "code",
   "execution_count": 6,
   "metadata": {},
   "outputs": [],
   "source": [
    "#export bar chart\n",
    "bar.figure.savefig(r'C:\\Users\\kickw\\OneDrive\\Documents\\Instacart Basket Analysis\\04 Analysis\\Visualizations\\full_bar_orders_dow.png')"
   ]
  },
  {
   "cell_type": "markdown",
   "metadata": {},
   "source": [
    "### Histogram"
   ]
  },
  {
   "cell_type": "code",
   "execution_count": 7,
   "metadata": {
    "scrolled": true
   },
   "outputs": [
    {
     "data": {
      "text/plain": [
       "<matplotlib.axes._subplots.AxesSubplot at 0x1ac1a9963a0>"
      ]
     },
     "execution_count": 7,
     "metadata": {},
     "output_type": "execute_result"
    },
    {
     "data": {
      "image/png": "[encoded data removed]",
      "text/plain": [
       "<Figure size 432x288 with 1 Axes>"
      ]
     },
     "metadata": {
      "needs_background": "light"
     },
     "output_type": "display_data"
    }
   ],
   "source": [
    "#create histogram\n",
    "ords_prods_merge['prices'].plot.hist(bins=25)"
   ]
  },
  {
   "cell_type": "code",
   "execution_count": 8,
   "metadata": {},
   "outputs": [
    {
     "data": {
      "text/plain": [
       "count    3.243421e+07\n",
       "mean     1.198114e+01\n",
       "std      4.954311e+02\n",
       "min      1.000000e+00\n",
       "25%      4.200000e+00\n",
       "50%      7.400000e+00\n",
       "75%      1.130000e+01\n",
       "max      9.999900e+04\n",
       "Name: prices, dtype: float64"
      ]
     },
     "execution_count": 8,
     "metadata": {},
     "output_type": "execute_result"
    }
   ],
   "source": [
    "#check values to better understand plot\n",
    "ords_prods_merge['prices'].describe()"
   ]
  },
  {
   "cell_type": "markdown",
   "metadata": {},
   "source": [
    "### Scatterplot"
   ]
  },
  {
   "cell_type": "code",
   "execution_count": 12,
   "metadata": {},
   "outputs": [
    {
     "data": {
      "text/plain": [
       "<matplotlib.axes._subplots.AxesSubplot at 0x1ac1aabdc70>"
      ]
     },
     "execution_count": 12,
     "metadata": {},
     "output_type": "execute_result"
    },
    {
     "data": {
      "image/png": "[encoded data removed]",
      "text/plain": [
       "<Figure size 432x288 with 1 Axes>"
      ]
     },
     "metadata": {
      "needs_background": "light"
     },
     "output_type": "display_data"
    }
   ],
   "source": [
    "#create scatterplot\n",
    "#plot values against themselves to check for outliers\n",
    "sns.scatterplot(x='prices', y='prices', data= ords_prods_merge)"
   ]
  },
  {
   "cell_type": "code",
   "execution_count": 13,
   "metadata": {},
   "outputs": [
    {
     "data": {
      "text/html": [
       "<div>\n",
       "<style scoped>\n",
       "    .dataframe tbody tr th:only-of-type {\n",
       "        vertical-align: middle;\n",
       "    }\n",
       "\n",
       "    .dataframe tbody tr th {\n",
       "        vertical-align: top;\n",
       "    }\n",
       "\n",
       "    .dataframe thead th {\n",
       "        text-align: right;\n",
       "    }\n",
       "</style>\n",
       "<table border=\"1\" class=\"dataframe\">\n",
       "  <thead>\n",
       "    <tr style=\"text-align: right;\">\n",
       "      <th></th>\n",
       "      <th>order_id</th>\n",
       "      <th>user_id</th>\n",
       "      <th>order_number</th>\n",
       "      <th>orders_day_of_week</th>\n",
       "      <th>order_hour_of_day</th>\n",
       "      <th>days_since_prior_order</th>\n",
       "      <th>customer_status</th>\n",
       "      <th>product_id</th>\n",
       "      <th>add_to_cart_order</th>\n",
       "      <th>reordered</th>\n",
       "      <th>...</th>\n",
       "      <th>behavior_flag</th>\n",
       "      <th>first_name</th>\n",
       "      <th>last_name</th>\n",
       "      <th>gender</th>\n",
       "      <th>state</th>\n",
       "      <th>age</th>\n",
       "      <th>date_joined</th>\n",
       "      <th>dependents</th>\n",
       "      <th>marital_status</th>\n",
       "      <th>income</th>\n",
       "    </tr>\n",
       "  </thead>\n",
       "  <tbody>\n",
       "    <tr>\n",
       "      <th>7816</th>\n",
       "      <td>1435153</td>\n",
       "      <td>1519</td>\n",
       "      <td>26</td>\n",
       "      <td>2</td>\n",
       "      <td>11</td>\n",
       "      <td>6.0</td>\n",
       "      <td>Returning Customer</td>\n",
       "      <td>21553</td>\n",
       "      <td>15</td>\n",
       "      <td>0</td>\n",
       "      <td>...</td>\n",
       "      <td>Frequent customer</td>\n",
       "      <td>Craig</td>\n",
       "      <td>Clark</td>\n",
       "      <td>Male</td>\n",
       "      <td>Rhode Island</td>\n",
       "      <td>68</td>\n",
       "      <td>3/4/2020</td>\n",
       "      <td>0</td>\n",
       "      <td>divorced/widowed</td>\n",
       "      <td>177864</td>\n",
       "    </tr>\n",
       "    <tr>\n",
       "      <th>7817</th>\n",
       "      <td>1066435</td>\n",
       "      <td>1519</td>\n",
       "      <td>32</td>\n",
       "      <td>3</td>\n",
       "      <td>10</td>\n",
       "      <td>5.0</td>\n",
       "      <td>Returning Customer</td>\n",
       "      <td>21553</td>\n",
       "      <td>28</td>\n",
       "      <td>1</td>\n",
       "      <td>...</td>\n",
       "      <td>Frequent customer</td>\n",
       "      <td>Craig</td>\n",
       "      <td>Clark</td>\n",
       "      <td>Male</td>\n",
       "      <td>Rhode Island</td>\n",
       "      <td>68</td>\n",
       "      <td>3/4/2020</td>\n",
       "      <td>0</td>\n",
       "      <td>divorced/widowed</td>\n",
       "      <td>177864</td>\n",
       "    </tr>\n",
       "    <tr>\n",
       "      <th>15172</th>\n",
       "      <td>1697208</td>\n",
       "      <td>2409</td>\n",
       "      <td>33</td>\n",
       "      <td>1</td>\n",
       "      <td>19</td>\n",
       "      <td>5.0</td>\n",
       "      <td>Returning Customer</td>\n",
       "      <td>21553</td>\n",
       "      <td>1</td>\n",
       "      <td>0</td>\n",
       "      <td>...</td>\n",
       "      <td>Frequent customer</td>\n",
       "      <td>Nicole</td>\n",
       "      <td>Odonnell</td>\n",
       "      <td>Female</td>\n",
       "      <td>Hawaii</td>\n",
       "      <td>55</td>\n",
       "      <td>11/11/2018</td>\n",
       "      <td>2</td>\n",
       "      <td>married</td>\n",
       "      <td>230074</td>\n",
       "    </tr>\n",
       "    <tr>\n",
       "      <th>20294</th>\n",
       "      <td>965345</td>\n",
       "      <td>3531</td>\n",
       "      <td>27</td>\n",
       "      <td>2</td>\n",
       "      <td>19</td>\n",
       "      <td>8.0</td>\n",
       "      <td>Returning Customer</td>\n",
       "      <td>33664</td>\n",
       "      <td>2</td>\n",
       "      <td>0</td>\n",
       "      <td>...</td>\n",
       "      <td>Frequent customer</td>\n",
       "      <td>Alice</td>\n",
       "      <td>Compton</td>\n",
       "      <td>Female</td>\n",
       "      <td>Hawaii</td>\n",
       "      <td>80</td>\n",
       "      <td>10/6/2019</td>\n",
       "      <td>2</td>\n",
       "      <td>married</td>\n",
       "      <td>233776</td>\n",
       "    </tr>\n",
       "    <tr>\n",
       "      <th>20528</th>\n",
       "      <td>2943740</td>\n",
       "      <td>3793</td>\n",
       "      <td>1</td>\n",
       "      <td>2</td>\n",
       "      <td>9</td>\n",
       "      <td>NaN</td>\n",
       "      <td>New Customer</td>\n",
       "      <td>21553</td>\n",
       "      <td>3</td>\n",
       "      <td>0</td>\n",
       "      <td>...</td>\n",
       "      <td>Regular customer</td>\n",
       "      <td>Jerry</td>\n",
       "      <td>Allen</td>\n",
       "      <td>Male</td>\n",
       "      <td>Louisiana</td>\n",
       "      <td>59</td>\n",
       "      <td>8/23/2019</td>\n",
       "      <td>3</td>\n",
       "      <td>married</td>\n",
       "      <td>182933</td>\n",
       "    </tr>\n",
       "    <tr>\n",
       "      <th>...</th>\n",
       "      <td>...</td>\n",
       "      <td>...</td>\n",
       "      <td>...</td>\n",
       "      <td>...</td>\n",
       "      <td>...</td>\n",
       "      <td>...</td>\n",
       "      <td>...</td>\n",
       "      <td>...</td>\n",
       "      <td>...</td>\n",
       "      <td>...</td>\n",
       "      <td>...</td>\n",
       "      <td>...</td>\n",
       "      <td>...</td>\n",
       "      <td>...</td>\n",
       "      <td>...</td>\n",
       "      <td>...</td>\n",
       "      <td>...</td>\n",
       "      <td>...</td>\n",
       "      <td>...</td>\n",
       "      <td>...</td>\n",
       "      <td>...</td>\n",
       "    </tr>\n",
       "    <tr>\n",
       "      <th>32333019</th>\n",
       "      <td>3265389</td>\n",
       "      <td>51346</td>\n",
       "      <td>4</td>\n",
       "      <td>1</td>\n",
       "      <td>17</td>\n",
       "      <td>13.0</td>\n",
       "      <td>Returning Customer</td>\n",
       "      <td>33664</td>\n",
       "      <td>2</td>\n",
       "      <td>1</td>\n",
       "      <td>...</td>\n",
       "      <td>Regular customer</td>\n",
       "      <td>NaN</td>\n",
       "      <td>Gould</td>\n",
       "      <td>Male</td>\n",
       "      <td>Rhode Island</td>\n",
       "      <td>58</td>\n",
       "      <td>1/25/2019</td>\n",
       "      <td>1</td>\n",
       "      <td>married</td>\n",
       "      <td>207497</td>\n",
       "    </tr>\n",
       "    <tr>\n",
       "      <th>32337105</th>\n",
       "      <td>1179092</td>\n",
       "      <td>131671</td>\n",
       "      <td>12</td>\n",
       "      <td>4</td>\n",
       "      <td>9</td>\n",
       "      <td>15.0</td>\n",
       "      <td>Returning Customer</td>\n",
       "      <td>33664</td>\n",
       "      <td>1</td>\n",
       "      <td>0</td>\n",
       "      <td>...</td>\n",
       "      <td>Regular customer</td>\n",
       "      <td>Diana</td>\n",
       "      <td>Hansen</td>\n",
       "      <td>Female</td>\n",
       "      <td>Rhode Island</td>\n",
       "      <td>35</td>\n",
       "      <td>8/4/2018</td>\n",
       "      <td>0</td>\n",
       "      <td>single</td>\n",
       "      <td>86490</td>\n",
       "    </tr>\n",
       "    <tr>\n",
       "      <th>32340034</th>\n",
       "      <td>1226705</td>\n",
       "      <td>39667</td>\n",
       "      <td>7</td>\n",
       "      <td>2</td>\n",
       "      <td>15</td>\n",
       "      <td>20.0</td>\n",
       "      <td>Returning Customer</td>\n",
       "      <td>33664</td>\n",
       "      <td>14</td>\n",
       "      <td>0</td>\n",
       "      <td>...</td>\n",
       "      <td>Non-frequent customer</td>\n",
       "      <td>Johnny</td>\n",
       "      <td>Colon</td>\n",
       "      <td>Male</td>\n",
       "      <td>Rhode Island</td>\n",
       "      <td>78</td>\n",
       "      <td>5/8/2019</td>\n",
       "      <td>2</td>\n",
       "      <td>married</td>\n",
       "      <td>195077</td>\n",
       "    </tr>\n",
       "    <tr>\n",
       "      <th>32359285</th>\n",
       "      <td>3000037</td>\n",
       "      <td>95105</td>\n",
       "      <td>2</td>\n",
       "      <td>4</td>\n",
       "      <td>19</td>\n",
       "      <td>22.0</td>\n",
       "      <td>Returning Customer</td>\n",
       "      <td>33664</td>\n",
       "      <td>4</td>\n",
       "      <td>0</td>\n",
       "      <td>...</td>\n",
       "      <td>Frequent customer</td>\n",
       "      <td>Catherine</td>\n",
       "      <td>Browning</td>\n",
       "      <td>Female</td>\n",
       "      <td>South Carolina</td>\n",
       "      <td>48</td>\n",
       "      <td>1/18/2017</td>\n",
       "      <td>2</td>\n",
       "      <td>married</td>\n",
       "      <td>398880</td>\n",
       "    </tr>\n",
       "    <tr>\n",
       "      <th>32359286</th>\n",
       "      <td>2741225</td>\n",
       "      <td>95105</td>\n",
       "      <td>4</td>\n",
       "      <td>5</td>\n",
       "      <td>12</td>\n",
       "      <td>2.0</td>\n",
       "      <td>Returning Customer</td>\n",
       "      <td>33664</td>\n",
       "      <td>3</td>\n",
       "      <td>1</td>\n",
       "      <td>...</td>\n",
       "      <td>Frequent customer</td>\n",
       "      <td>Catherine</td>\n",
       "      <td>Browning</td>\n",
       "      <td>Female</td>\n",
       "      <td>South Carolina</td>\n",
       "      <td>48</td>\n",
       "      <td>1/18/2017</td>\n",
       "      <td>2</td>\n",
       "      <td>married</td>\n",
       "      <td>398880</td>\n",
       "    </tr>\n",
       "  </tbody>\n",
       "</table>\n",
       "<p>5127 rows × 33 columns</p>\n",
       "</div>"
      ],
      "text/plain": [
       "          order_id  user_id  order_number  orders_day_of_week  \\\n",
       "7816       1435153     1519            26                   2   \n",
       "7817       1066435     1519            32                   3   \n",
       "15172      1697208     2409            33                   1   \n",
       "20294       965345     3531            27                   2   \n",
       "20528      2943740     3793             1                   2   \n",
       "...            ...      ...           ...                 ...   \n",
       "32333019   3265389    51346             4                   1   \n",
       "32337105   1179092   131671            12                   4   \n",
       "32340034   1226705    39667             7                   2   \n",
       "32359285   3000037    95105             2                   4   \n",
       "32359286   2741225    95105             4                   5   \n",
       "\n",
       "          order_hour_of_day  days_since_prior_order     customer_status  \\\n",
       "7816                     11                     6.0  Returning Customer   \n",
       "7817                     10                     5.0  Returning Customer   \n",
       "15172                    19                     5.0  Returning Customer   \n",
       "20294                    19                     8.0  Returning Customer   \n",
       "20528                     9                     NaN        New Customer   \n",
       "...                     ...                     ...                 ...   \n",
       "32333019                 17                    13.0  Returning Customer   \n",
       "32337105                  9                    15.0  Returning Customer   \n",
       "32340034                 15                    20.0  Returning Customer   \n",
       "32359285                 19                    22.0  Returning Customer   \n",
       "32359286                 12                     2.0  Returning Customer   \n",
       "\n",
       "          product_id  add_to_cart_order  reordered  ...  \\\n",
       "7816           21553                 15          0  ...   \n",
       "7817           21553                 28          1  ...   \n",
       "15172          21553                  1          0  ...   \n",
       "20294          33664                  2          0  ...   \n",
       "20528          21553                  3          0  ...   \n",
       "...              ...                ...        ...  ...   \n",
       "32333019       33664                  2          1  ...   \n",
       "32337105       33664                  1          0  ...   \n",
       "32340034       33664                 14          0  ...   \n",
       "32359285       33664                  4          0  ...   \n",
       "32359286       33664                  3          1  ...   \n",
       "\n",
       "                  behavior_flag  first_name  last_name  gender  \\\n",
       "7816          Frequent customer       Craig      Clark    Male   \n",
       "7817          Frequent customer       Craig      Clark    Male   \n",
       "15172         Frequent customer      Nicole   Odonnell  Female   \n",
       "20294         Frequent customer       Alice    Compton  Female   \n",
       "20528          Regular customer       Jerry      Allen    Male   \n",
       "...                         ...         ...        ...     ...   \n",
       "32333019       Regular customer         NaN      Gould    Male   \n",
       "32337105       Regular customer       Diana     Hansen  Female   \n",
       "32340034  Non-frequent customer      Johnny      Colon    Male   \n",
       "32359285      Frequent customer   Catherine   Browning  Female   \n",
       "32359286      Frequent customer   Catherine   Browning  Female   \n",
       "\n",
       "                   state age date_joined dependents    marital_status  income  \n",
       "7816        Rhode Island  68    3/4/2020          0  divorced/widowed  177864  \n",
       "7817        Rhode Island  68    3/4/2020          0  divorced/widowed  177864  \n",
       "15172             Hawaii  55  11/11/2018          2           married  230074  \n",
       "20294             Hawaii  80   10/6/2019          2           married  233776  \n",
       "20528          Louisiana  59   8/23/2019          3           married  182933  \n",
       "...                  ...  ..         ...        ...               ...     ...  \n",
       "32333019    Rhode Island  58   1/25/2019          1           married  207497  \n",
       "32337105    Rhode Island  35    8/4/2018          0            single   86490  \n",
       "32340034    Rhode Island  78    5/8/2019          2           married  195077  \n",
       "32359285  South Carolina  48   1/18/2017          2           married  398880  \n",
       "32359286  South Carolina  48   1/18/2017          2           married  398880  \n",
       "\n",
       "[5127 rows x 33 columns]"
      ]
     },
     "execution_count": 13,
     "metadata": {},
     "output_type": "execute_result"
    }
   ],
   "source": [
    "#We can see 2 possible outliers, we know the 999,999 but what about the value nearing 20,000?\n",
    "ords_prods_merge.loc[ords_prods_merge['prices']>100]"
   ]
  },
  {
   "cell_type": "code",
   "execution_count": 15,
   "metadata": {},
   "outputs": [],
   "source": [
    "#Until we further understand these values lets mark them as missing to preserve the analysis\n",
    "ords_prods_merge.loc[ords_prods_merge['prices']>100, 'prices']= np.nan"
   ]
  },
  {
   "cell_type": "code",
   "execution_count": 18,
   "metadata": {},
   "outputs": [
    {
     "data": {
      "image/png": "[encoded data removed]",
      "text/plain": [
       "<Figure size 432x288 with 1 Axes>"
      ]
     },
     "metadata": {
      "needs_background": "light"
     },
     "output_type": "display_data"
    }
   ],
   "source": [
    "#re-run histogram\n",
    "hist= ords_prods_merge['prices'].plot.hist(bins = 25)"
   ]
  },
  {
   "cell_type": "code",
   "execution_count": 59,
   "metadata": {},
   "outputs": [
    {
     "data": {
      "image/png": "[encoded data removed]",
      "text/plain": [
       "<Figure size 432x288 with 1 Axes>"
      ]
     },
     "metadata": {
      "needs_background": "light"
     },
     "output_type": "display_data"
    }
   ],
   "source": [
    "#increase bin number to better view the data\n",
    "price_distribution= ords_prods_merge['prices'].plot.hist(bins = 70)"
   ]
  },
  {
   "cell_type": "markdown",
   "metadata": {},
   "source": [
    "### Line Chart"
   ]
  },
  {
   "cell_type": "code",
   "execution_count": 26,
   "metadata": {},
   "outputs": [],
   "source": [
    "#dataset is too large so we must sample\n",
    "np.random.seed(4)\n",
    "dev= np.random.rand(len(ords_prods_merge))<=0.7"
   ]
  },
  {
   "cell_type": "code",
   "execution_count": 27,
   "metadata": {},
   "outputs": [],
   "source": [
    "#separate the random variables, 70% in big, 30% in small\n",
    "big= ords_prods_merge[dev]\n",
    "small= ords_prods_merge[~dev]"
   ]
  },
  {
   "cell_type": "code",
   "execution_count": 28,
   "metadata": {},
   "outputs": [
    {
     "data": {
      "text/plain": [
       "32434212"
      ]
     },
     "execution_count": 28,
     "metadata": {},
     "output_type": "execute_result"
    }
   ],
   "source": [
    "#do these random variables represent the original set?\n",
    "len(ords_prods_merge)"
   ]
  },
  {
   "cell_type": "code",
   "execution_count": 29,
   "metadata": {},
   "outputs": [
    {
     "data": {
      "text/plain": [
       "32434212"
      ]
     },
     "execution_count": 29,
     "metadata": {},
     "output_type": "execute_result"
    }
   ],
   "source": [
    "len(big)+ len(small)"
   ]
  },
  {
   "cell_type": "code",
   "execution_count": 61,
   "metadata": {},
   "outputs": [],
   "source": [
    "#reduce sample to necessary variables to reduce processing time\n",
    "df_2= small[['orders_day_of_week', 'prices']]"
   ]
  },
  {
   "cell_type": "code",
   "execution_count": 62,
   "metadata": {},
   "outputs": [
    {
     "data": {
      "image/png": "[encoded data removed]",
      "text/plain": [
       "<Figure size 432x288 with 1 Axes>"
      ]
     },
     "metadata": {
      "needs_background": "light"
     },
     "output_type": "display_data"
    }
   ],
   "source": [
    "#view development of prices over the week days as line chart\n",
    "product_prices_over_week_line= sns.lineplot(data= df_2, x= 'orders_day_of_week', y= 'prices')"
   ]
  },
  {
   "cell_type": "markdown",
   "metadata": {},
   "source": [
    "## 3."
   ]
  },
  {
   "cell_type": "code",
   "execution_count": 65,
   "metadata": {},
   "outputs": [
    {
     "data": {
      "image/png": "[encoded data removed]",
      "text/plain": [
       "<Figure size 432x288 with 1 Axes>"
      ]
     },
     "metadata": {
      "needs_background": "light"
     },
     "output_type": "display_data"
    }
   ],
   "source": [
    "#order_hour_of_day histogram\n",
    "orders_by_hour_hist=ords_prods_merge['order_hour_of_day'].plot.hist(bins=23)"
   ]
  },
  {
   "cell_type": "markdown",
   "metadata": {},
   "source": [
    "This histogram displays how many orders occured on each hour."
   ]
  },
  {
   "cell_type": "markdown",
   "metadata": {},
   "source": [
    "## 4."
   ]
  },
  {
   "cell_type": "code",
   "execution_count": null,
   "metadata": {},
   "outputs": [],
   "source": [
    "#loyalty bar chart"
   ]
  },
  {
   "cell_type": "code",
   "execution_count": 64,
   "metadata": {},
   "outputs": [
    {
     "data": {
      "image/png": "[encoded data removed]",
      "text/plain": [
       "<Figure size 432x288 with 1 Axes>"
      ]
     },
     "metadata": {
      "needs_background": "light"
     },
     "output_type": "display_data"
    }
   ],
   "source": [
    "loyalty_amounts_bar= ords_prods_merge['loyalty_flag'].value_counts().plot.bar()"
   ]
  },
  {
   "cell_type": "markdown",
   "metadata": {},
   "source": [
    "There are more orders from regular customers than loyal or new customers."
   ]
  },
  {
   "cell_type": "markdown",
   "metadata": {},
   "source": [
    "## 5."
   ]
  },
  {
   "cell_type": "code",
   "execution_count": null,
   "metadata": {},
   "outputs": [],
   "source": [
    "#line chart of prices sample"
   ]
  },
  {
   "cell_type": "code",
   "execution_count": 37,
   "metadata": {},
   "outputs": [],
   "source": [
    "#dataset is too large so we must sample\n",
    "np.random.seed(4)\n",
    "dev= np.random.rand(len(ords_prods_merge))<=0.7"
   ]
  },
  {
   "cell_type": "code",
   "execution_count": 38,
   "metadata": {},
   "outputs": [],
   "source": [
    "#separate the random variables, 70% in big, 30% in small\n",
    "big= ords_prods_merge[dev]\n",
    "small= ords_prods_merge[~dev]"
   ]
  },
  {
   "cell_type": "code",
   "execution_count": 39,
   "metadata": {},
   "outputs": [
    {
     "data": {
      "text/plain": [
       "32434212"
      ]
     },
     "execution_count": 39,
     "metadata": {},
     "output_type": "execute_result"
    }
   ],
   "source": [
    "#do these random variables represent the original set?\n",
    "len(ords_prods_merge)"
   ]
  },
  {
   "cell_type": "code",
   "execution_count": 40,
   "metadata": {},
   "outputs": [
    {
     "data": {
      "text/plain": [
       "32434212"
      ]
     },
     "execution_count": 40,
     "metadata": {},
     "output_type": "execute_result"
    }
   ],
   "source": [
    "len(big)+ len(small)"
   ]
  },
  {
   "cell_type": "code",
   "execution_count": 47,
   "metadata": {},
   "outputs": [],
   "source": [
    "#reduce sample to necessary variables to reduce processing time\n",
    "df_3= small[['order_hour_of_day', 'prices']]"
   ]
  },
  {
   "cell_type": "code",
   "execution_count": 66,
   "metadata": {},
   "outputs": [
    {
     "data": {
      "image/png": "[encoded data removed]",
      "text/plain": [
       "<Figure size 432x288 with 1 Axes>"
      ]
     },
     "metadata": {
      "needs_background": "light"
     },
     "output_type": "display_data"
    }
   ],
   "source": [
    "#view development of prices over the week days as line chart\n",
    "price_by_hour_line= sns.lineplot(data= df_3, x= 'order_hour_of_day', y= 'prices')"
   ]
  },
  {
   "cell_type": "markdown",
   "metadata": {},
   "source": [
    "## 6."
   ]
  },
  {
   "cell_type": "code",
   "execution_count": 50,
   "metadata": {},
   "outputs": [],
   "source": [
    "# exploring connection between age and family status\n",
    "#line chart of age and number of dependents\n",
    "df_4= small[['dependents', 'age']]"
   ]
  },
  {
   "cell_type": "code",
   "execution_count": 52,
   "metadata": {},
   "outputs": [
    {
     "data": {
      "image/png": "[encoded data removed]",
      "text/plain": [
       "<Figure size 432x288 with 1 Axes>"
      ]
     },
     "metadata": {
      "needs_background": "light"
     },
     "output_type": "display_data"
    }
   ],
   "source": [
    "age_dependents_line= sns.lineplot(data= df_4 , y= 'dependents', x= 'age')"
   ]
  },
  {
   "cell_type": "markdown",
   "metadata": {},
   "source": [
    "The line chart of the relationship of number of dependents and age has a lot of volitility. There are many rises and falls over the rage of years. Not much information can be gleaned from this."
   ]
  },
  {
   "cell_type": "markdown",
   "metadata": {},
   "source": [
    "## 7."
   ]
  },
  {
   "cell_type": "code",
   "execution_count": 53,
   "metadata": {},
   "outputs": [
    {
     "data": {
      "text/plain": [
       "Index(['order_id', 'user_id', 'order_number', 'orders_day_of_week',\n",
       "       'order_hour_of_day', 'days_since_prior_order', 'customer_status',\n",
       "       'product_id', 'add_to_cart_order', 'reordered', 'product_name',\n",
       "       'aisle_id', 'department_id', 'prices', '_merge', 'price_range_loc',\n",
       "       'Busiest_days', 'busiest_period_of_day', 'max_order', 'loyalty_flag',\n",
       "       'spending_category', 'spending_flag', 'behavior_category',\n",
       "       'behavior_flag', 'first_name', 'last_name', 'gender', 'state', 'age',\n",
       "       'date_joined', 'dependents', 'marital_status', 'income'],\n",
       "      dtype='object')"
      ]
     },
     "execution_count": 53,
     "metadata": {},
     "output_type": "execute_result"
    }
   ],
   "source": [
    "#explore connection between age and spending power\n",
    "#scatterplot of age and order total\n",
    "ords_prods_merge.columns"
   ]
  },
  {
   "cell_type": "code",
   "execution_count": 56,
   "metadata": {},
   "outputs": [],
   "source": [
    "df_5= small[['age', 'prices']]"
   ]
  },
  {
   "cell_type": "code",
   "execution_count": 58,
   "metadata": {},
   "outputs": [
    {
     "data": {
      "image/png": "[encoded data removed]",
      "text/plain": [
       "<Figure size 432x288 with 1 Axes>"
      ]
     },
     "metadata": {
      "needs_background": "light"
     },
     "output_type": "display_data"
    }
   ],
   "source": [
    "age_spending_line= sns.lineplot(data= df_5 , y= 'prices', x= 'age')"
   ]
  },
  {
   "cell_type": "markdown",
   "metadata": {},
   "source": [
    "Spending power rises and falls throughout the ages, hitting its peak around the late 40's and late 60's with the lowest point in the 50's."
   ]
  },
  {
   "cell_type": "markdown",
   "metadata": {},
   "source": [
    "## 8."
   ]
  },
  {
   "cell_type": "code",
   "execution_count": 67,
   "metadata": {},
   "outputs": [],
   "source": [
    "#export visualization\n",
    "bar.figure.savefig(r'C:\\Users\\kickw\\OneDrive\\Documents\\Instacart Basket Analysis\\04 Analysis\\Visualizations\\bar_orders_dow_new.png')\n",
    "\n",
    "price_distribution.figure.savefig(r'C:\\Users\\kickw\\OneDrive\\Documents\\Instacart Basket Analysis\\04 Analysis\\Visualizations\\price_distribution.png')\n",
    "\n",
    "product_prices_over_week_line.figure.savefig(r'C:\\Users\\kickw\\OneDrive\\Documents\\Instacart Basket Analysis\\04 Analysis\\Visualizations\\product_prices_over_week_line.png')\n",
    "\n",
    "orders_by_hour_hist.figure.savefig(r'C:\\Users\\kickw\\OneDrive\\Documents\\Instacart Basket Analysis\\04 Analysis\\Visualizations\\orders_by_hour_hist.png')\n",
    "\n",
    "loyalty_amounts_bar.figure.savefig(r'C:\\Users\\kickw\\OneDrive\\Documents\\Instacart Basket Analysis\\04 Analysis\\Visualizations\\loyalty_amounts_bar.png')\n",
    "\n",
    "price_by_hour_line.figure.savefig(r'C:\\Users\\kickw\\OneDrive\\Documents\\Instacart Basket Analysis\\04 Analysis\\Visualizations\\price_by_hour_line.png')\n",
    "\n",
    "age_dependents_line.figure.savefig(r'C:\\Users\\kickw\\OneDrive\\Documents\\Instacart Basket Analysis\\04 Analysis\\Visualizations\\age_dependents_line.png')\n",
    "\n",
    "age_spending_line.figure.savefig(r'C:\\Users\\kickw\\OneDrive\\Documents\\Instacart Basket Analysis\\04 Analysis\\Visualizations\\age_spending_line.png')\n"
   ]
  },
  {
   "cell_type": "code",
   "execution_count": null,
   "metadata": {},
   "outputs": [],
   "source": []
  }
 ],
 "metadata": {
  "kernelspec": {
   "display_name": "Python 3",
   "language": "python",
   "name": "python3"
  },
  "language_info": {
   "codemirror_mode": {
    "name": "ipython",
    "version": 3
   },
   "file_extension": ".py",
   "mimetype": "text/x-python",
   "name": "python",
   "nbconvert_exporter": "python",
   "pygments_lexer": "ipython3",
   "version": "3.8.3"
  }
 },
 "nbformat": 4,
 "nbformat_minor": 4
}
